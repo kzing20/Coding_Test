{
 "cells": [
  {
   "cell_type": "code",
   "execution_count": 1,
   "metadata": {},
   "outputs": [],
   "source": [
    "import numpy as np"
   ]
  },
  {
   "cell_type": "code",
   "execution_count": 440,
   "metadata": {},
   "outputs": [],
   "source": [
    "N=8\n",
    "a=[[0]*N for i in range(N)] #파이썬 2차원 배열, 모든 원소가 0인 8x8리스트 생성\n"
   ]
  },
  {
   "cell_type": "code",
   "execution_count": 441,
   "metadata": {},
   "outputs": [],
   "source": [
    "list = [5, 2, 3, 14, 9, 2, 11, 8]"
   ]
  },
  {
   "cell_type": "code",
   "execution_count": 442,
   "metadata": {},
   "outputs": [],
   "source": [
    "a[-1] = list"
   ]
  },
  {
   "cell_type": "code",
   "execution_count": 443,
   "metadata": {},
   "outputs": [
    {
     "data": {
      "text/plain": [
       "[[0, 0, 0, 0, 0, 0, 0, 0],\n",
       " [0, 0, 0, 0, 0, 0, 0, 0],\n",
       " [0, 0, 0, 0, 0, 0, 0, 0],\n",
       " [0, 0, 0, 0, 0, 0, 0, 0],\n",
       " [0, 0, 0, 0, 0, 0, 0, 0],\n",
       " [0, 0, 0, 0, 0, 0, 0, 0],\n",
       " [0, 0, 0, 0, 0, 0, 0, 0],\n",
       " [5, 2, 3, 14, 9, 2, 11, 8]]"
      ]
     },
     "execution_count": 443,
     "metadata": {},
     "output_type": "execute_result"
    }
   ],
   "source": [
    "a"
   ]
  },
  {
   "cell_type": "code",
   "execution_count": 214,
   "metadata": {},
   "outputs": [
    {
     "data": {
      "text/plain": [
       "[5, 2, 3, 14, 9, 2, 11, 8]"
      ]
     },
     "execution_count": 214,
     "metadata": {},
     "output_type": "execute_result"
    }
   ],
   "source": [
    "list"
   ]
  },
  {
   "cell_type": "code",
   "execution_count": 147,
   "metadata": {},
   "outputs": [
    {
     "data": {
      "text/plain": [
       "2"
      ]
     },
     "execution_count": 147,
     "metadata": {},
     "output_type": "execute_result"
    }
   ],
   "source": [
    "min(list)"
   ]
  },
  {
   "cell_type": "code",
   "execution_count": 458,
   "metadata": {},
   "outputs": [],
   "source": [
    "import numpy as np\n",
    "def make_matrix(input_list,N):\n",
    "    a=[[0]*N for i in range(N)] #파이썬 2차원 배열, 모든 원소가 0인 NxN리스트 생성\n",
    "    a[-1] = input_list\n",
    "    return a"
   ]
  },
  {
   "cell_type": "code",
   "execution_count": 459,
   "metadata": {},
   "outputs": [
    {
     "data": {
      "text/plain": [
       "[[0, 0, 0, 0, 0, 0, 0, 0],\n",
       " [0, 0, 0, 0, 0, 0, 0, 0],\n",
       " [0, 0, 0, 0, 0, 0, 0, 0],\n",
       " [0, 0, 0, 0, 0, 0, 0, 0],\n",
       " [0, 0, 0, 0, 0, 0, 0, 0],\n",
       " [0, 0, 0, 0, 0, 0, 0, 0],\n",
       " [0, 0, 0, 0, 0, 0, 0, 0],\n",
       " [5, 2, 3, 14, 9, 2, 11, 8]]"
      ]
     },
     "execution_count": 459,
     "metadata": {},
     "output_type": "execute_result"
    }
   ],
   "source": [
    "input_list = [5, 2, 3, 14, 9, 2, 11, 8]\n",
    "test_matrix = make_matrix(input_list,8)\n",
    "test_matrix"
   ]
  },
  {
   "cell_type": "markdown",
   "metadata": {},
   "source": [
    "#### 1. 물고기의 수가 가장 적은 어항에 물고기를 한 마리 넣는다."
   ]
  },
  {
   "cell_type": "code",
   "execution_count": 460,
   "metadata": {},
   "outputs": [],
   "source": [
    "def add_one_to_min(input_matrix):\n",
    "    result_matrix = np.copy(input_matrix)\n",
    "    copy_list = input_matrix[-1].copy()\n",
    "    for i,value in enumerate(input_matrix[-1]):\n",
    "        if value== min(input_matrix[-1]):\n",
    "            copy_list[i] = value+1\n",
    "    result_matrix[-1] = copy_list\n",
    "    return result_matrix\n",
    "    "
   ]
  },
  {
   "cell_type": "code",
   "execution_count": 451,
   "metadata": {},
   "outputs": [
    {
     "data": {
      "text/plain": [
       "[[0, 0, 0, 0, 0, 0, 0, 0],\n",
       " [0, 0, 0, 0, 0, 0, 0, 0],\n",
       " [0, 0, 0, 0, 0, 0, 0, 0],\n",
       " [0, 0, 0, 0, 0, 0, 0, 0],\n",
       " [0, 0, 0, 0, 0, 0, 0, 0],\n",
       " [0, 0, 0, 0, 0, 0, 0, 0],\n",
       " [0, 0, 0, 0, 0, 0, 0, 0],\n",
       " [5, 2, 3, 14, 9, 2, 11, 8]]"
      ]
     },
     "execution_count": 451,
     "metadata": {},
     "output_type": "execute_result"
    }
   ],
   "source": [
    "test_matrix"
   ]
  },
  {
   "cell_type": "code",
   "execution_count": 462,
   "metadata": {},
   "outputs": [
    {
     "data": {
      "text/plain": [
       "array([[ 0,  0,  0,  0,  0,  0,  0,  0],\n",
       "       [ 0,  0,  0,  0,  0,  0,  0,  0],\n",
       "       [ 0,  0,  0,  0,  0,  0,  0,  0],\n",
       "       [ 0,  0,  0,  0,  0,  0,  0,  0],\n",
       "       [ 0,  0,  0,  0,  0,  0,  0,  0],\n",
       "       [ 0,  0,  0,  0,  0,  0,  0,  0],\n",
       "       [ 0,  0,  0,  0,  0,  0,  0,  0],\n",
       "       [ 5,  3,  3, 14,  9,  3, 11,  8]])"
      ]
     },
     "execution_count": 462,
     "metadata": {},
     "output_type": "execute_result"
    }
   ],
   "source": [
    "test_matrix_2 = add_one_to_min(test_matrix)\n",
    "test_matrix_2"
   ]
  },
  {
   "cell_type": "code",
   "execution_count": 215,
   "metadata": {},
   "outputs": [
    {
     "name": "stdout",
     "output_type": "stream",
     "text": [
      "[5, 3, 3, 14, 9, 3, 11, 8]\n"
     ]
    }
   ],
   "source": [
    "new_list = a[-1].copy()\n",
    "for i,value in enumerate(a[-1]):\n",
    "    if value== min(a[-1]):\n",
    "        new_list[i] = value+1\n",
    "        \n",
    "print(new_list)"
   ]
  },
  {
   "cell_type": "code",
   "execution_count": 216,
   "metadata": {},
   "outputs": [],
   "source": [
    "a[-1]= new_list"
   ]
  },
  {
   "cell_type": "code",
   "execution_count": 217,
   "metadata": {},
   "outputs": [
    {
     "data": {
      "text/plain": [
       "[[0, 0, 0, 0, 0, 0, 0, 0],\n",
       " [0, 0, 0, 0, 0, 0, 0, 0],\n",
       " [0, 0, 0, 0, 0, 0, 0, 0],\n",
       " [0, 0, 0, 0, 0, 0, 0, 0],\n",
       " [0, 0, 0, 0, 0, 0, 0, 0],\n",
       " [0, 0, 0, 0, 0, 0, 0, 0],\n",
       " [0, 0, 0, 0, 0, 0, 0, 0],\n",
       " [5, 3, 3, 14, 9, 3, 11, 8]]"
      ]
     },
     "execution_count": 217,
     "metadata": {},
     "output_type": "execute_result"
    }
   ],
   "source": [
    "a"
   ]
  },
  {
   "cell_type": "markdown",
   "metadata": {},
   "source": [
    "#### 2. 어항을 쌓는다."
   ]
  },
  {
   "cell_type": "code",
   "execution_count": 463,
   "metadata": {},
   "outputs": [],
   "source": [
    "def stack_fish_tank(input_matrix):\n",
    "    result_matrix = np.copy(input_matrix)\n",
    "    pivot,w,h = 1,1,1\n",
    "    idx = 0\n",
    "    N=8\n",
    "    while True:\n",
    "        if (pivot-1+w+h>N): #종료 조건\n",
    "            break\n",
    "        for c in range(pivot-1, pivot-1 + w):\n",
    "            for r in range(-1, -h - 1, -1):\n",
    "                nextR = - w + c - pivot\n",
    "                nextC = pivot-1 +w -(r+1)\n",
    "                result_matrix[nextR][nextC] = result_matrix[r][c]\n",
    "                result_matrix[r][c] = 0\n",
    "        pivot += (idx // 2 + 1)\n",
    "        if idx % 2 == 1:\n",
    "            w += 1\n",
    "        else:\n",
    "            h += 1\n",
    "        idx += 1\n",
    "    return result_matrix\n"
   ]
  },
  {
   "cell_type": "code",
   "execution_count": 464,
   "metadata": {},
   "outputs": [
    {
     "data": {
      "text/plain": [
       "array([[ 0,  0,  0,  0,  0,  0,  0,  0],\n",
       "       [ 0,  0,  0,  0,  0,  0,  0,  0],\n",
       "       [ 0,  0,  0,  0,  0,  0,  0,  0],\n",
       "       [ 0,  0,  0,  0,  0,  0,  0,  0],\n",
       "       [ 0,  0,  0,  0,  0,  0,  0,  0],\n",
       "       [ 0,  0,  0,  0,  3,  3,  0,  0],\n",
       "       [ 0,  0,  0,  0, 14,  5,  0,  0],\n",
       "       [ 0,  0,  0,  0,  9,  3, 11,  8]])"
      ]
     },
     "execution_count": 464,
     "metadata": {},
     "output_type": "execute_result"
    }
   ],
   "source": [
    "stack_matrix = stack_fish_tank(test_matrix_2)\n",
    "stack_matrix"
   ]
  },
  {
   "cell_type": "code",
   "execution_count": 218,
   "metadata": {},
   "outputs": [],
   "source": [
    "my_list = np.array(a)"
   ]
  },
  {
   "cell_type": "code",
   "execution_count": 219,
   "metadata": {},
   "outputs": [
    {
     "data": {
      "text/plain": [
       "array([[ 0,  0,  0,  0,  0,  0,  0,  0],\n",
       "       [ 0,  0,  0,  0,  0,  0,  0,  0],\n",
       "       [ 0,  0,  0,  0,  0,  0,  0,  0],\n",
       "       [ 0,  0,  0,  0,  0,  0,  0,  0],\n",
       "       [ 0,  0,  0,  0,  0,  0,  0,  0],\n",
       "       [ 0,  0,  0,  0,  0,  0,  0,  0],\n",
       "       [ 0,  0,  0,  0,  0,  0,  0,  0],\n",
       "       [ 5,  3,  3, 14,  9,  3, 11,  8]])"
      ]
     },
     "execution_count": 219,
     "metadata": {},
     "output_type": "execute_result"
    }
   ],
   "source": [
    "my_list"
   ]
  },
  {
   "cell_type": "code",
   "execution_count": 220,
   "metadata": {},
   "outputs": [
    {
     "name": "stdout",
     "output_type": "stream",
     "text": [
      "[[ 0  0  0  0  0  0  0  0]\n",
      " [ 0  0  0  0  0  0  0  0]\n",
      " [ 0  0  0  0  0  0  0  0]\n",
      " [ 0  0  0  0  0  0  0  0]\n",
      " [ 0  0  0  0  0  0  0  0]\n",
      " [ 0  0  0  0  0  0  0  0]\n",
      " [ 0  5  0  0  0  0  0  0]\n",
      " [ 0  3  3 14  9  3 11  8]]\n",
      "[[ 0  0  0  0  0  0  0  0]\n",
      " [ 0  0  0  0  0  0  0  0]\n",
      " [ 0  0  0  0  0  0  0  0]\n",
      " [ 0  0  0  0  0  0  0  0]\n",
      " [ 0  0  0  0  0  0  0  0]\n",
      " [ 0  0  0  0  0  0  0  0]\n",
      " [ 0  0  3  5  0  0  0  0]\n",
      " [ 0  0  3 14  9  3 11  8]]\n",
      "[[ 0  0  0  0  0  0  0  0]\n",
      " [ 0  0  0  0  0  0  0  0]\n",
      " [ 0  0  0  0  0  0  0  0]\n",
      " [ 0  0  0  0  0  0  0  0]\n",
      " [ 0  0  0  0  0  0  0  0]\n",
      " [ 0  0  0  0  3  3  0  0]\n",
      " [ 0  0  0  0 14  5  0  0]\n",
      " [ 0  0  0  0  9  3 11  8]]\n"
     ]
    }
   ],
   "source": [
    "pivot,w,h = 1,1,1\n",
    "idx = 0\n",
    "N=8\n",
    "while True:\n",
    "    if (pivot-1+w+h>N): #종료 조건\n",
    "        break\n",
    "    for c in range(pivot-1, pivot-1 + w):\n",
    "        for r in range(-1, -h - 1, -1):\n",
    "            nextR = - w + c - pivot\n",
    "            nextC = pivot-1 +w -(r+1)\n",
    "            my_list[nextR][nextC] = my_list[r][c]\n",
    "            my_list[r][c] = 0\n",
    "    print(my_list)\n",
    "    pivot += (idx // 2 + 1)\n",
    "    if idx % 2 == 1:\n",
    "        w += 1\n",
    "    else:\n",
    "        h += 1\n",
    "    idx += 1"
   ]
  },
  {
   "cell_type": "code",
   "execution_count": 221,
   "metadata": {},
   "outputs": [
    {
     "data": {
      "text/plain": [
       "array([[ 0,  0,  0,  0,  0,  0,  0,  0],\n",
       "       [ 0,  0,  0,  0,  0,  0,  0,  0],\n",
       "       [ 0,  0,  0,  0,  0,  0,  0,  0],\n",
       "       [ 0,  0,  0,  0,  0,  0,  0,  0],\n",
       "       [ 0,  0,  0,  0,  0,  0,  0,  0],\n",
       "       [ 0,  0,  0,  0,  3,  3,  0,  0],\n",
       "       [ 0,  0,  0,  0, 14,  5,  0,  0],\n",
       "       [ 0,  0,  0,  0,  9,  3, 11,  8]])"
      ]
     },
     "execution_count": 221,
     "metadata": {},
     "output_type": "execute_result"
    }
   ],
   "source": [
    "my_list"
   ]
  },
  {
   "cell_type": "markdown",
   "metadata": {},
   "source": [
    "#### 3. 어항에 있는 물고기 수 조절"
   ]
  },
  {
   "cell_type": "code",
   "execution_count": 466,
   "metadata": {},
   "outputs": [],
   "source": [
    "def control_fish_num(input_matrix):\n",
    "    result_matrix = np.copy(input_matrix)\n",
    "    dx = [0,0,-1,1]\n",
    "    dy = [1,-1,0,0]\n",
    "    for x in range(0,N):\n",
    "        for y in range(0,N):\n",
    "            for i in range(0,4):\n",
    "                nextX = x + dx[i]\n",
    "                nextY = y + dy[i]\n",
    "                if (nextX<0) or (nextX>N-1) or (nextY<0) or (nextY>N-1):\n",
    "                    continue\n",
    "                if (input_matrix[nextX][nextY] ==0):\n",
    "                    continue\n",
    "                if (input_matrix[x][y]> input_matrix[nextX][nextY]):\n",
    "                    diff = (input_matrix[x][y] - input_matrix[nextX][nextY]) //5\n",
    "                    result_matrix[x][y] -= diff\n",
    "                    result_matrix[nextX][nextY] += diff\n",
    "    return result_matrix"
   ]
  },
  {
   "cell_type": "code",
   "execution_count": 467,
   "metadata": {},
   "outputs": [
    {
     "data": {
      "text/plain": [
       "array([[ 0,  0,  0,  0,  0,  0,  0,  0],\n",
       "       [ 0,  0,  0,  0,  0,  0,  0,  0],\n",
       "       [ 0,  0,  0,  0,  0,  0,  0,  0],\n",
       "       [ 0,  0,  0,  0,  0,  0,  0,  0],\n",
       "       [ 0,  0,  0,  0,  0,  0,  0,  0],\n",
       "       [ 0,  0,  0,  0,  5,  3,  0,  0],\n",
       "       [ 0,  0,  0,  0, 10,  6,  0,  0],\n",
       "       [ 0,  0,  0,  0,  9,  5, 10,  8]])"
      ]
     },
     "execution_count": 467,
     "metadata": {},
     "output_type": "execute_result"
    }
   ],
   "source": [
    "control_matrix = control_fish_num(stack_matrix)\n",
    "control_matrix"
   ]
  },
  {
   "cell_type": "code",
   "execution_count": 468,
   "metadata": {},
   "outputs": [
    {
     "data": {
      "text/plain": [
       "array([[ 0,  0,  0,  0,  0,  0,  0,  0],\n",
       "       [ 0,  0,  0,  0,  0,  0,  0,  0],\n",
       "       [ 0,  0,  0,  0,  0,  0,  0,  0],\n",
       "       [ 0,  0,  0,  0,  0,  0,  0,  0],\n",
       "       [ 0,  0,  0,  0,  0,  0,  0,  0],\n",
       "       [ 0,  0,  0,  0,  3,  3,  0,  0],\n",
       "       [ 0,  0,  0,  0, 14,  5,  0,  0],\n",
       "       [ 0,  0,  0,  0,  9,  3, 11,  8]])"
      ]
     },
     "execution_count": 468,
     "metadata": {},
     "output_type": "execute_result"
    }
   ],
   "source": [
    "stack_matrix"
   ]
  },
  {
   "cell_type": "code",
   "execution_count": 222,
   "metadata": {},
   "outputs": [],
   "source": [
    "copy_list = my_list.copy()"
   ]
  },
  {
   "cell_type": "code",
   "execution_count": 223,
   "metadata": {},
   "outputs": [
    {
     "data": {
      "text/plain": [
       "array([[ 0,  0,  0,  0,  0,  0,  0,  0],\n",
       "       [ 0,  0,  0,  0,  0,  0,  0,  0],\n",
       "       [ 0,  0,  0,  0,  0,  0,  0,  0],\n",
       "       [ 0,  0,  0,  0,  0,  0,  0,  0],\n",
       "       [ 0,  0,  0,  0,  0,  0,  0,  0],\n",
       "       [ 0,  0,  0,  0,  3,  3,  0,  0],\n",
       "       [ 0,  0,  0,  0, 14,  5,  0,  0],\n",
       "       [ 0,  0,  0,  0,  9,  3, 11,  8]])"
      ]
     },
     "execution_count": 223,
     "metadata": {},
     "output_type": "execute_result"
    }
   ],
   "source": [
    "copy_list"
   ]
  },
  {
   "cell_type": "code",
   "execution_count": 224,
   "metadata": {},
   "outputs": [],
   "source": [
    "dx = [0,0,-1,1]\n",
    "dy = [1,-1,0,0]\n",
    "for x in range(0,N):\n",
    "    for y in range(0,N):\n",
    "        for i in range(0,4):\n",
    "            nextX = x + dx[i]\n",
    "            nextY = y + dy[i]\n",
    "            if (nextX<0) or (nextX>N-1) or (nextY<0) or (nextY>N-1):\n",
    "                continue\n",
    "            if (my_list[nextX][nextY] ==0):\n",
    "                continue\n",
    "            if (my_list[x][y]> my_list[nextX][nextY]):\n",
    "                diff = (my_list[x][y] - my_list[nextX][nextY]) //5\n",
    "                copy_list[x][y] -= diff\n",
    "                copy_list[nextX][nextY] += diff"
   ]
  },
  {
   "cell_type": "code",
   "execution_count": 225,
   "metadata": {},
   "outputs": [
    {
     "data": {
      "text/plain": [
       "array([[ 0,  0,  0,  0,  0,  0,  0,  0],\n",
       "       [ 0,  0,  0,  0,  0,  0,  0,  0],\n",
       "       [ 0,  0,  0,  0,  0,  0,  0,  0],\n",
       "       [ 0,  0,  0,  0,  0,  0,  0,  0],\n",
       "       [ 0,  0,  0,  0,  0,  0,  0,  0],\n",
       "       [ 0,  0,  0,  0,  5,  3,  0,  0],\n",
       "       [ 0,  0,  0,  0, 10,  6,  0,  0],\n",
       "       [ 0,  0,  0,  0,  9,  5, 10,  8]])"
      ]
     },
     "execution_count": 225,
     "metadata": {},
     "output_type": "execute_result"
    }
   ],
   "source": [
    "copy_list"
   ]
  },
  {
   "cell_type": "markdown",
   "metadata": {},
   "source": [
    "#### 4. 어항을 바닥에 일렬로 놓기"
   ]
  },
  {
   "cell_type": "code",
   "execution_count": 473,
   "metadata": {},
   "outputs": [],
   "source": [
    "def spread_fish(input_matrix,N):\n",
    "    result_matrix = [[0]*N for i in range(N)]\n",
    "    compare_list = [0]*N\n",
    "    result_array = []\n",
    "    for c in range(0,N):\n",
    "        if np.array_equal(input_matrix[:,c],compare_list):\n",
    "            continue\n",
    "        for i in range(0,N):\n",
    "            num = np.flip(input_matrix[:,c])[i]\n",
    "            if num == 0:\n",
    "                continue\n",
    "            result_array.append(num)\n",
    "    result_matrix[-1] = result_array\n",
    "    return result_matrix"
   ]
  },
  {
   "cell_type": "code",
   "execution_count": 474,
   "metadata": {},
   "outputs": [
    {
     "data": {
      "text/plain": [
       "array([[ 0,  0,  0,  0,  0,  0,  0,  0],\n",
       "       [ 0,  0,  0,  0,  0,  0,  0,  0],\n",
       "       [ 0,  0,  0,  0,  0,  0,  0,  0],\n",
       "       [ 0,  0,  0,  0,  0,  0,  0,  0],\n",
       "       [ 0,  0,  0,  0,  0,  0,  0,  0],\n",
       "       [ 0,  0,  0,  0,  5,  3,  0,  0],\n",
       "       [ 0,  0,  0,  0, 10,  6,  0,  0],\n",
       "       [ 0,  0,  0,  0,  9,  5, 10,  8]])"
      ]
     },
     "execution_count": 474,
     "metadata": {},
     "output_type": "execute_result"
    }
   ],
   "source": [
    "control_matrix"
   ]
  },
  {
   "cell_type": "code",
   "execution_count": 475,
   "metadata": {},
   "outputs": [
    {
     "data": {
      "text/plain": [
       "[[0, 0, 0, 0, 0, 0, 0, 0],\n",
       " [0, 0, 0, 0, 0, 0, 0, 0],\n",
       " [0, 0, 0, 0, 0, 0, 0, 0],\n",
       " [0, 0, 0, 0, 0, 0, 0, 0],\n",
       " [0, 0, 0, 0, 0, 0, 0, 0],\n",
       " [0, 0, 0, 0, 0, 0, 0, 0],\n",
       " [0, 0, 0, 0, 0, 0, 0, 0],\n",
       " [9, 10, 5, 5, 6, 3, 10, 8]]"
      ]
     },
     "execution_count": 475,
     "metadata": {},
     "output_type": "execute_result"
    }
   ],
   "source": [
    "spread_matrix = spread_fish(control_matrix,N)\n",
    "spread_matrix"
   ]
  },
  {
   "cell_type": "code",
   "execution_count": 226,
   "metadata": {},
   "outputs": [
    {
     "data": {
      "text/plain": [
       "[0, 0, 0, 0, 0, 0, 0, 0]"
      ]
     },
     "execution_count": 226,
     "metadata": {},
     "output_type": "execute_result"
    }
   ],
   "source": [
    "compare_list = [0]*N\n",
    "compare_list"
   ]
  },
  {
   "cell_type": "code",
   "execution_count": 227,
   "metadata": {},
   "outputs": [],
   "source": [
    "compare_list = [0]*N\n",
    "result_array = []\n",
    "for c in range(0,N):\n",
    "    if np.array_equal(copy_list[:,c],compare_list):\n",
    "        continue\n",
    "    for i in range(0,N):\n",
    "        num = np.flip(copy_list[:,c])[i]\n",
    "        if num == 0:\n",
    "            continue\n",
    "        result_array.append(num)"
   ]
  },
  {
   "cell_type": "code",
   "execution_count": 228,
   "metadata": {},
   "outputs": [
    {
     "data": {
      "text/plain": [
       "[9, 10, 5, 5, 6, 3, 10, 8]"
      ]
     },
     "execution_count": 228,
     "metadata": {},
     "output_type": "execute_result"
    }
   ],
   "source": [
    "result_array"
   ]
  },
  {
   "cell_type": "code",
   "execution_count": 229,
   "metadata": {},
   "outputs": [],
   "source": [
    "a[-1] = result_array"
   ]
  },
  {
   "cell_type": "code",
   "execution_count": 230,
   "metadata": {},
   "outputs": [
    {
     "data": {
      "text/plain": [
       "[[0, 0, 0, 0, 0, 0, 0, 0],\n",
       " [0, 0, 0, 0, 0, 0, 0, 0],\n",
       " [0, 0, 0, 0, 0, 0, 0, 0],\n",
       " [0, 0, 0, 0, 0, 0, 0, 0],\n",
       " [0, 0, 0, 0, 0, 0, 0, 0],\n",
       " [0, 0, 0, 0, 0, 0, 0, 0],\n",
       " [0, 0, 0, 0, 0, 0, 0, 0],\n",
       " [9, 10, 5, 5, 6, 3, 10, 8]]"
      ]
     },
     "execution_count": 230,
     "metadata": {},
     "output_type": "execute_result"
    }
   ],
   "source": [
    "a"
   ]
  },
  {
   "cell_type": "markdown",
   "metadata": {},
   "source": [
    "#### 5. 공중부양"
   ]
  },
  {
   "cell_type": "code",
   "execution_count": 428,
   "metadata": {},
   "outputs": [
    {
     "data": {
      "text/plain": [
       "[[0, 0, 0, 0, 0, 0, 0, 0],\n",
       " [0, 0, 0, 0, 0, 0, 0, 0],\n",
       " [0, 0, 0, 0, 0, 0, 0, 0],\n",
       " [0, 0, 0, 0, 0, 0, 0, 0],\n",
       " [0, 0, 0, 0, 0, 0, 0, 0],\n",
       " [0, 0, 0, 0, 0, 0, 0, 0],\n",
       " [0, 0, 0, 0, 0, 0, 0, 0],\n",
       " [9, 10, 5, 5, 6, 3, 10, 8]]"
      ]
     },
     "execution_count": 428,
     "metadata": {},
     "output_type": "execute_result"
    }
   ],
   "source": [
    "a"
   ]
  },
  {
   "cell_type": "code",
   "execution_count": 476,
   "metadata": {},
   "outputs": [],
   "source": [
    "# 180 도 회전\n",
    "def rotate_180_clockwise(list):\n",
    "    new_list = np.copy(list)\n",
    "    new_list = np.flip(np.append(new_list,[0]*(N-len(list))))\n",
    "    return new_list"
   ]
  },
  {
   "cell_type": "code",
   "execution_count": 484,
   "metadata": {},
   "outputs": [],
   "source": [
    "def fly_fish_bowls(input_matrix, N):\n",
    "      result_matrix = np.copy(input_matrix)\n",
    "      compare_list = [0]*N\n",
    "      while True:\n",
    "            zero_row = 0 \n",
    "            reversed_lists = []\n",
    "            if np.count_nonzero(result_matrix[-1])==2:\n",
    "                  break\n",
    "            for i,row in enumerate(result_matrix):       \n",
    "                  if np.array_equal(row, compare_list):\n",
    "                        zero_row += 1\n",
    "                  if not(np.array_equal(row,compare_list)):\n",
    "                        nonzero_len = np.count_nonzero(row)\n",
    "                        start = N - nonzero_len\n",
    "                        copy_row = np.copy(row) #deep copy\n",
    "                        list = copy_row[start:start + int(nonzero_len/2)]\n",
    "                        result_matrix[i][start:start + int(nonzero_len/2)] =0\n",
    "                        reversed_list = rotate_180_clockwise(list)\n",
    "                        reversed_lists.append(reversed_list)\n",
    "                        \n",
    "                        nonzero_row = N-zero_row\n",
    "\n",
    "            for i,list in enumerate(reversed_lists):\n",
    "                  result_matrix[(-1)*(i+nonzero_row+1)][:] = list\n",
    "      return result_matrix"
   ]
  },
  {
   "cell_type": "code",
   "execution_count": 485,
   "metadata": {},
   "outputs": [
    {
     "data": {
      "text/plain": [
       "array([[ 0,  0,  0,  0,  0,  0,  0,  0],\n",
       "       [ 0,  0,  0,  0,  0,  0,  0,  0],\n",
       "       [ 0,  0,  0,  0,  0,  0,  0,  0],\n",
       "       [ 0,  0,  0,  0,  0,  0,  0,  0],\n",
       "       [ 0,  0,  0,  0,  0,  0,  3,  6],\n",
       "       [ 0,  0,  0,  0,  0,  0,  5,  5],\n",
       "       [ 0,  0,  0,  0,  0,  0, 10,  9],\n",
       "       [ 0,  0,  0,  0,  0,  0, 10,  8]])"
      ]
     },
     "execution_count": 485,
     "metadata": {},
     "output_type": "execute_result"
    }
   ],
   "source": [
    "fly_matrix = fly_fish_bowls(spread_matrix,N)\n",
    "fly_matrix"
   ]
  },
  {
   "cell_type": "code",
   "execution_count": 426,
   "metadata": {},
   "outputs": [
    {
     "name": "stdout",
     "output_type": "stream",
     "text": [
      "reversed list  [ 0  0  0  0  5  5 10  9]\n",
      "nonzero_row  1\n",
      "[array([ 0,  0,  0,  0,  5,  5, 10,  9])]\n",
      "reversed list  [0 0 0 0 0 0 5 5]\n",
      "reversed list  [0 0 0 0 0 0 3 6]\n",
      "nonzero_row  2\n",
      "[array([0, 0, 0, 0, 0, 0, 5, 5]), array([0, 0, 0, 0, 0, 0, 3, 6])]\n"
     ]
    }
   ],
   "source": [
    "copy_a = np.copy(a)\n",
    "# 180 도 회전\n",
    "def rotate_180_clockwise(list):\n",
    "    new_list = np.copy(list)\n",
    "    new_list = np.flip(np.append(new_list,[0]*(N-len(list))))\n",
    "    return new_list\n",
    "\n",
    "while True:\n",
    "      zero_row = 0 \n",
    "      reversed_lists = []\n",
    "      if np.count_nonzero(copy_a[-1])==2:\n",
    "             break\n",
    "      for i,row in enumerate(copy_a):       \n",
    "        if np.array_equal(row, compare_list):\n",
    "              zero_row += 1\n",
    "        if not(np.array_equal(row,compare_list)):\n",
    "            nonzero_len = np.count_nonzero(row)\n",
    "            start = N - nonzero_len\n",
    "            copy_row = np.copy(row) #deep copy\n",
    "            list = copy_row[start:start + int(nonzero_len/2)]\n",
    "            copy_a[i][start:start + int(nonzero_len/2)] =0\n",
    "            reversed_list = rotate_180_clockwise(list)\n",
    "            reversed_lists.append(reversed_list)\n",
    "            \n",
    "            print(\"reversed list \",reversed_list)\n",
    "            nonzero_row = N-zero_row\n",
    "\n",
    "      print(\"nonzero_row \",nonzero_row)\n",
    "      for i,list in enumerate(reversed_lists):\n",
    "            copy_a[(-1)*(i+nonzero_row+1)][:] = list\n",
    "      print(reversed_lists)"
   ]
  },
  {
   "cell_type": "code",
   "execution_count": 432,
   "metadata": {},
   "outputs": [
    {
     "data": {
      "text/plain": [
       "array([[ 0,  0,  0,  0,  0,  0,  0,  0],\n",
       "       [ 0,  0,  0,  0,  0,  0,  0,  0],\n",
       "       [ 0,  0,  0,  0,  0,  0,  0,  0],\n",
       "       [ 0,  0,  0,  0,  0,  0,  0,  0],\n",
       "       [ 0,  0,  0,  0,  0,  0,  3,  6],\n",
       "       [ 0,  0,  0,  0,  0,  0,  5,  5],\n",
       "       [ 0,  0,  0,  0,  0,  0, 10,  9],\n",
       "       [ 0,  0,  0,  0,  0,  0, 10,  8]])"
      ]
     },
     "execution_count": 432,
     "metadata": {},
     "output_type": "execute_result"
    }
   ],
   "source": [
    "copy_a"
   ]
  },
  {
   "cell_type": "markdown",
   "metadata": {},
   "source": [
    "#### 6. 물고기 조절 작업"
   ]
  },
  {
   "cell_type": "code",
   "execution_count": 486,
   "metadata": {},
   "outputs": [
    {
     "data": {
      "text/plain": [
       "array([[ 0,  0,  0,  0,  0,  0,  0,  0],\n",
       "       [ 0,  0,  0,  0,  0,  0,  0,  0],\n",
       "       [ 0,  0,  0,  0,  0,  0,  0,  0],\n",
       "       [ 0,  0,  0,  0,  0,  0,  0,  0],\n",
       "       [ 0,  0,  0,  0,  0,  0,  3,  6],\n",
       "       [ 0,  0,  0,  0,  0,  0,  6,  5],\n",
       "       [ 0,  0,  0,  0,  0,  0,  9,  9],\n",
       "       [ 0,  0,  0,  0,  0,  0, 10,  8]])"
      ]
     },
     "execution_count": 486,
     "metadata": {},
     "output_type": "execute_result"
    }
   ],
   "source": [
    "control_matrix_2 = control_fish_num(fly_matrix)\n",
    "control_matrix_2"
   ]
  },
  {
   "cell_type": "code",
   "execution_count": 433,
   "metadata": {},
   "outputs": [],
   "source": [
    "copy_list = np.copy(copy_a)\n"
   ]
  },
  {
   "cell_type": "code",
   "execution_count": 435,
   "metadata": {},
   "outputs": [],
   "source": [
    "copy_list = np.copy(copy_a)\n",
    "\n",
    "dx = [0,0,-1,1]\n",
    "dy = [1,-1,0,0]\n",
    "for x in range(0,N):\n",
    "    for y in range(0,N):\n",
    "        for i in range(0,4):\n",
    "            nextX = x + dx[i]\n",
    "            nextY = y + dy[i]\n",
    "            if (nextX<0) or (nextX>N-1) or (nextY<0) or (nextY>N-1):\n",
    "                continue\n",
    "            if (copy_a[nextX][nextY] ==0):\n",
    "                continue\n",
    "            if (copy_a[x][y]> copy_a[nextX][nextY]):\n",
    "                diff = (copy_a[x][y] - copy_a[nextX][nextY]) //5\n",
    "                copy_list[x][y] -= diff\n",
    "                copy_list[nextX][nextY] += diff"
   ]
  },
  {
   "cell_type": "code",
   "execution_count": 436,
   "metadata": {},
   "outputs": [
    {
     "data": {
      "text/plain": [
       "array([[ 0,  0,  0,  0,  0,  0,  0,  0],\n",
       "       [ 0,  0,  0,  0,  0,  0,  0,  0],\n",
       "       [ 0,  0,  0,  0,  0,  0,  0,  0],\n",
       "       [ 0,  0,  0,  0,  0,  0,  0,  0],\n",
       "       [ 0,  0,  0,  0,  0,  0,  3,  6],\n",
       "       [ 0,  0,  0,  0,  0,  0,  6,  5],\n",
       "       [ 0,  0,  0,  0,  0,  0,  9,  9],\n",
       "       [ 0,  0,  0,  0,  0,  0, 10,  8]])"
      ]
     },
     "execution_count": 436,
     "metadata": {},
     "output_type": "execute_result"
    }
   ],
   "source": [
    "copy_list"
   ]
  },
  {
   "cell_type": "markdown",
   "metadata": {},
   "source": [
    "#### 7. 일렬로 나열"
   ]
  },
  {
   "cell_type": "code",
   "execution_count": 489,
   "metadata": {},
   "outputs": [
    {
     "data": {
      "text/plain": [
       "[10, 9, 6, 3, 8, 9, 5, 6]"
      ]
     },
     "execution_count": 489,
     "metadata": {},
     "output_type": "execute_result"
    }
   ],
   "source": [
    "spread_matrix_2 = spread_fish(control_matrix_2,N)\n",
    "spread_matrix_2[-1]"
   ]
  },
  {
   "cell_type": "code",
   "execution_count": 437,
   "metadata": {},
   "outputs": [],
   "source": [
    "compare_list = [0]*N\n",
    "result_array = []\n",
    "for c in range(0,N):\n",
    "    if np.array_equal(copy_list[:,c],compare_list):\n",
    "        continue\n",
    "    for i in range(0,N):\n",
    "        num = np.flip(copy_list[:,c])[i]\n",
    "        if num == 0:\n",
    "            continue\n",
    "        result_array.append(num)"
   ]
  },
  {
   "cell_type": "code",
   "execution_count": 438,
   "metadata": {},
   "outputs": [
    {
     "data": {
      "text/plain": [
       "[10, 9, 6, 3, 8, 9, 5, 6]"
      ]
     },
     "execution_count": 438,
     "metadata": {},
     "output_type": "execute_result"
    }
   ],
   "source": [
    "result_array"
   ]
  },
  {
   "cell_type": "markdown",
   "metadata": {},
   "source": [
    "#### 최종"
   ]
  },
  {
   "cell_type": "code",
   "execution_count": 40,
   "metadata": {},
   "outputs": [],
   "source": [
    "import numpy as np\n",
    "### 0. N*N matrix 만들기\n",
    "def make_matrix(input_list,N):\n",
    "    a=[[0]*N for i in range(N)] #파이썬 2차원 배열, 모든 원소가 0인 NxN리스트 생성\n",
    "    a[-1] = input_list\n",
    "    return a"
   ]
  },
  {
   "cell_type": "code",
   "execution_count": 41,
   "metadata": {},
   "outputs": [],
   "source": [
    "### 1. 물고기의 수가 가장 적은 어항에 물고기를 한 마리 넣는다.\n",
    "def add_one_to_min(input_matrix):\n",
    "    result_matrix = np.copy(input_matrix)\n",
    "    copy_list = input_matrix[-1].copy()\n",
    "    for i,value in enumerate(input_matrix[-1]):\n",
    "        if value== min(input_matrix[-1]):\n",
    "            copy_list[i] = value+1\n",
    "    result_matrix[-1] = copy_list\n",
    "    return result_matrix"
   ]
  },
  {
   "cell_type": "code",
   "execution_count": 42,
   "metadata": {},
   "outputs": [],
   "source": [
    "### 2. 어항을 쌓는다\n",
    "def stack_fish_tank(input_matrix,N):\n",
    "    result_matrix = np.copy(input_matrix)\n",
    "    pivot,w,h = 1,1,1\n",
    "    idx = 0\n",
    "    while True:\n",
    "        if (pivot-1+w+h>N): #종료 조건\n",
    "            break\n",
    "        for c in range(pivot-1, pivot-1 + w):\n",
    "            for r in range(-1, -h - 1, -1):\n",
    "                nextR = - w + c - pivot\n",
    "                nextC = pivot-1 +w -(r+1)\n",
    "                result_matrix[nextR][nextC] = result_matrix[r][c]\n",
    "                result_matrix[r][c] = 0\n",
    "        pivot += (idx // 2 + 1)\n",
    "        if idx % 2 == 1:\n",
    "            w += 1\n",
    "        else:\n",
    "            h += 1\n",
    "        idx += 1\n",
    "    return result_matrix"
   ]
  },
  {
   "cell_type": "code",
   "execution_count": 43,
   "metadata": {},
   "outputs": [],
   "source": [
    "### 3. 어항에 있는 물고기 수 조절\n",
    "def control_fish_num(input_matrix,N):\n",
    "    result_matrix = np.copy(input_matrix)\n",
    "    dx = [0,0,-1,1]\n",
    "    dy = [1,-1,0,0]\n",
    "    for x in range(0,N):\n",
    "        for y in range(0,N):\n",
    "            for i in range(0,4):\n",
    "                nextX = x + dx[i]\n",
    "                nextY = y + dy[i]\n",
    "                if (nextX<0) or (nextX>N-1) or (nextY<0) or (nextY>N-1):\n",
    "                    continue\n",
    "                if (input_matrix[nextX][nextY] ==0):\n",
    "                    continue\n",
    "                if (input_matrix[x][y]> input_matrix[nextX][nextY]):\n",
    "                    diff = (input_matrix[x][y] - input_matrix[nextX][nextY]) //5\n",
    "                    result_matrix[x][y] -= diff\n",
    "                    result_matrix[nextX][nextY] += diff\n",
    "    return result_matrix"
   ]
  },
  {
   "cell_type": "code",
   "execution_count": 44,
   "metadata": {},
   "outputs": [],
   "source": [
    "### 4. 어항을 바닥에 일렬로 놓기\n",
    "def spread_fish(input_matrix,N):\n",
    "    result_matrix = [[0]*N for i in range(N)]\n",
    "    compare_list = [0]*N\n",
    "    result_array = []\n",
    "    for c in range(0,N):\n",
    "        if np.array_equal(input_matrix[:,c],compare_list):\n",
    "            continue\n",
    "        for i in range(0,N):\n",
    "            num = np.flip(input_matrix[:,c])[i]\n",
    "            if num == 0:\n",
    "                continue\n",
    "            result_array.append(num)\n",
    "    result_matrix[-1] = result_array\n",
    "    return result_matrix"
   ]
  },
  {
   "cell_type": "code",
   "execution_count": 45,
   "metadata": {},
   "outputs": [],
   "source": [
    "### 5. 공중 부양\n",
    "# 180 도 회전\n",
    "def rotate_180_clockwise(input_list):\n",
    "    new_list = np.copy(input_list)\n",
    "    new_list = np.flip(np.append(new_list,[0]*(N-len(input_list))))\n",
    "    return new_list\n",
    "def fly_fish_bowls(input_matrix, N):\n",
    "      result_matrix = np.copy(input_matrix)\n",
    "      compare_list = [0]*N\n",
    "      while True:\n",
    "            zero_row = 0 \n",
    "            reversed_lists = []\n",
    "            if np.count_nonzero(result_matrix[-1])== int(N/4):\n",
    "                  break\n",
    "            for i,row in enumerate(result_matrix):       \n",
    "                  if np.array_equal(row, compare_list):\n",
    "                        zero_row += 1\n",
    "                  if not(np.array_equal(row,compare_list)):\n",
    "                        nonzero_len = np.count_nonzero(row)\n",
    "                        start = N - nonzero_len\n",
    "                        copy_row = np.copy(row) #deep copy\n",
    "                        list = copy_row[start:start + int(nonzero_len/2)]\n",
    "                        result_matrix[i][start:start + int(nonzero_len/2)] =0\n",
    "                        reversed_list = rotate_180_clockwise(list)\n",
    "                        reversed_lists.append(reversed_list)\n",
    "                        \n",
    "                        nonzero_row = N-zero_row\n",
    "\n",
    "            for i,list in enumerate(reversed_lists):\n",
    "                  result_matrix[(-1)*(i+nonzero_row+1)][:] = list\n",
    "      return result_matrix"
   ]
  },
  {
   "cell_type": "code",
   "execution_count": 46,
   "metadata": {},
   "outputs": [],
   "source": [
    "def get_result(input_matrix):\n",
    "    input_list = input_matrix[-1]\n",
    "    result_diff = max(input_list)-min(input_list)\n",
    "    return result_diff"
   ]
  },
  {
   "cell_type": "code",
   "execution_count": 511,
   "metadata": {},
   "outputs": [
    {
     "name": "stdout",
     "output_type": "stream",
     "text": [
      "8 7\n"
     ]
    }
   ],
   "source": [
    "N, K = input().split()\n",
    "N, K = int(N), int(K)\n",
    "print(N,K)"
   ]
  },
  {
   "cell_type": "code",
   "execution_count": 49,
   "metadata": {},
   "outputs": [
    {
     "data": {
      "text/plain": [
       "True"
      ]
     },
     "execution_count": 49,
     "metadata": {},
     "output_type": "execute_result"
    }
   ],
   "source": [
    "list1 = [1,2,3]\n",
    "list2=[1,2,3]\n",
    "list1==list2"
   ]
  },
  {
   "cell_type": "code",
   "execution_count": 10,
   "metadata": {},
   "outputs": [],
   "source": [
    "input_list = list(map(int, input().split()))"
   ]
  },
  {
   "cell_type": "code",
   "execution_count": 11,
   "metadata": {},
   "outputs": [
    {
     "data": {
      "text/plain": [
       "[1, 2, 3, 4, 5, 6, 7, 8]"
      ]
     },
     "execution_count": 11,
     "metadata": {},
     "output_type": "execute_result"
    }
   ],
   "source": [
    "input_list"
   ]
  },
  {
   "cell_type": "code",
   "execution_count": null,
   "metadata": {},
   "outputs": [],
   "source": []
  },
  {
   "cell_type": "code",
   "execution_count": 113,
   "metadata": {},
   "outputs": [],
   "source": [
    "input_list = [1,10000,1,10000]\n",
    "N=4\n",
    "result_matrix = make_matrix(input_list,N)"
   ]
  },
  {
   "cell_type": "code",
   "execution_count": 79,
   "metadata": {},
   "outputs": [],
   "source": [
    "answer = 0\n",
    "#input_list = [5, 2, 3, 14, 9, 2, 11, 8]\n",
    "input_list = [1,10000,1,10000]\n",
    "\n",
    "N = 4\n",
    "K = 0\n",
    "result_matrix = make_matrix(input_list,N)"
   ]
  },
  {
   "cell_type": "code",
   "execution_count": 22,
   "metadata": {},
   "outputs": [],
   "source": [
    "input_list = [5, 2, 3, 14, 9, 2, 11, 8]\n"
   ]
  },
  {
   "cell_type": "code",
   "execution_count": 48,
   "metadata": {},
   "outputs": [
    {
     "name": "stdout",
     "output_type": "stream",
     "text": [
      "[[0, 0, 0, 0, 0, 0, 0, 0, 0, 0, 0, 0, 0, 0, 0, 0], [0, 0, 0, 0, 0, 0, 0, 0, 0, 0, 0, 0, 0, 0, 0, 0], [0, 0, 0, 0, 0, 0, 0, 0, 0, 0, 0, 0, 0, 0, 0, 0], [0, 0, 0, 0, 0, 0, 0, 0, 0, 0, 0, 0, 0, 0, 0, 0], [0, 0, 0, 0, 0, 0, 0, 0, 0, 0, 0, 0, 0, 0, 0, 0], [0, 0, 0, 0, 0, 0, 0, 0, 0, 0, 0, 0, 0, 0, 0, 0], [0, 0, 0, 0, 0, 0, 0, 0, 0, 0, 0, 0, 0, 0, 0, 0], [0, 0, 0, 0, 0, 0, 0, 0, 0, 0, 0, 0, 0, 0, 0, 0], [0, 0, 0, 0, 0, 0, 0, 0, 0, 0, 0, 0, 0, 0, 0, 0], [0, 0, 0, 0, 0, 0, 0, 0, 0, 0, 0, 0, 0, 0, 0, 0], [0, 0, 0, 0, 0, 0, 0, 0, 0, 0, 0, 0, 0, 0, 0, 0], [0, 0, 0, 0, 0, 0, 0, 0, 0, 0, 0, 0, 0, 0, 0, 0], [0, 0, 0, 0, 0, 0, 0, 0, 0, 0, 0, 0, 0, 0, 0, 0], [0, 0, 0, 0, 0, 0, 0, 0, 0, 0, 0, 0, 0, 0, 0, 0], [0, 0, 0, 0, 0, 0, 0, 0, 0, 0, 0, 0, 0, 0, 0, 0], [1, 1, 10000, 1, 2, 3, 10000, 9999, 10, 9, 8, 10000, 5, 4, 3, 1]]\n",
      "[[0, 0, 0, 0, 0, 0, 0, 0, 0, 0, 0, 0, 0, 0, 0, 0], [0, 0, 0, 0, 0, 0, 0, 0, 0, 0, 0, 0, 0, 0, 0, 0], [0, 0, 0, 0, 0, 0, 0, 0, 0, 0, 0, 0, 0, 0, 0, 0], [0, 0, 0, 0, 0, 0, 0, 0, 0, 0, 0, 0, 0, 0, 0, 0], [0, 0, 0, 0, 0, 0, 0, 0, 0, 0, 0, 0, 0, 0, 0, 0], [0, 0, 0, 0, 0, 0, 0, 0, 0, 0, 0, 0, 0, 0, 0, 0], [0, 0, 0, 0, 0, 0, 0, 0, 0, 0, 0, 0, 0, 0, 0, 0], [0, 0, 0, 0, 0, 0, 0, 0, 0, 0, 0, 0, 0, 0, 0, 0], [0, 0, 0, 0, 0, 0, 0, 0, 0, 0, 0, 0, 0, 0, 0, 0], [0, 0, 0, 0, 0, 0, 0, 0, 0, 0, 0, 0, 0, 0, 0, 0], [0, 0, 0, 0, 0, 0, 0, 0, 0, 0, 0, 0, 0, 0, 0, 0], [0, 0, 0, 0, 0, 0, 0, 0, 0, 0, 0, 0, 0, 0, 0, 0], [0, 0, 0, 0, 0, 0, 0, 0, 0, 0, 0, 0, 0, 0, 0, 0], [0, 0, 0, 0, 0, 0, 0, 0, 0, 0, 0, 0, 0, 0, 0, 0], [0, 0, 0, 0, 0, 0, 0, 0, 0, 0, 0, 0, 0, 0, 0, 0], [3, 805, 2805, 4403, 802, 2404, 2404, 3201, 3601, 2805, 3203, 1602, 5603, 4002, 1606, 802]]\n",
      "[[0, 0, 0, 0, 0, 0, 0, 0, 0, 0, 0, 0, 0, 0, 0, 0], [0, 0, 0, 0, 0, 0, 0, 0, 0, 0, 0, 0, 0, 0, 0, 0], [0, 0, 0, 0, 0, 0, 0, 0, 0, 0, 0, 0, 0, 0, 0, 0], [0, 0, 0, 0, 0, 0, 0, 0, 0, 0, 0, 0, 0, 0, 0, 0], [0, 0, 0, 0, 0, 0, 0, 0, 0, 0, 0, 0, 0, 0, 0, 0], [0, 0, 0, 0, 0, 0, 0, 0, 0, 0, 0, 0, 0, 0, 0, 0], [0, 0, 0, 0, 0, 0, 0, 0, 0, 0, 0, 0, 0, 0, 0, 0], [0, 0, 0, 0, 0, 0, 0, 0, 0, 0, 0, 0, 0, 0, 0, 0], [0, 0, 0, 0, 0, 0, 0, 0, 0, 0, 0, 0, 0, 0, 0, 0], [0, 0, 0, 0, 0, 0, 0, 0, 0, 0, 0, 0, 0, 0, 0, 0], [0, 0, 0, 0, 0, 0, 0, 0, 0, 0, 0, 0, 0, 0, 0, 0], [0, 0, 0, 0, 0, 0, 0, 0, 0, 0, 0, 0, 0, 0, 0, 0], [0, 0, 0, 0, 0, 0, 0, 0, 0, 0, 0, 0, 0, 0, 0, 0], [0, 0, 0, 0, 0, 0, 0, 0, 0, 0, 0, 0, 0, 0, 0, 0], [0, 0, 0, 0, 0, 0, 0, 0, 0, 0, 0, 0, 0, 0, 0, 0], [1554, 2596, 3092, 2643, 1715, 2578, 2580, 2291, 2113, 2693, 2499, 2115, 2756, 3459, 2932, 2436]]\n",
      "[[0, 0, 0, 0, 0, 0, 0, 0, 0, 0, 0, 0, 0, 0, 0, 0], [0, 0, 0, 0, 0, 0, 0, 0, 0, 0, 0, 0, 0, 0, 0, 0], [0, 0, 0, 0, 0, 0, 0, 0, 0, 0, 0, 0, 0, 0, 0, 0], [0, 0, 0, 0, 0, 0, 0, 0, 0, 0, 0, 0, 0, 0, 0, 0], [0, 0, 0, 0, 0, 0, 0, 0, 0, 0, 0, 0, 0, 0, 0, 0], [0, 0, 0, 0, 0, 0, 0, 0, 0, 0, 0, 0, 0, 0, 0, 0], [0, 0, 0, 0, 0, 0, 0, 0, 0, 0, 0, 0, 0, 0, 0, 0], [0, 0, 0, 0, 0, 0, 0, 0, 0, 0, 0, 0, 0, 0, 0, 0], [0, 0, 0, 0, 0, 0, 0, 0, 0, 0, 0, 0, 0, 0, 0, 0], [0, 0, 0, 0, 0, 0, 0, 0, 0, 0, 0, 0, 0, 0, 0, 0], [0, 0, 0, 0, 0, 0, 0, 0, 0, 0, 0, 0, 0, 0, 0, 0], [0, 0, 0, 0, 0, 0, 0, 0, 0, 0, 0, 0, 0, 0, 0, 0], [0, 0, 0, 0, 0, 0, 0, 0, 0, 0, 0, 0, 0, 0, 0, 0], [0, 0, 0, 0, 0, 0, 0, 0, 0, 0, 0, 0, 0, 0, 0, 0], [0, 0, 0, 0, 0, 0, 0, 0, 0, 0, 0, 0, 0, 0, 0, 0], [2385, 2619, 2755, 2394, 2301, 2505, 2621, 2399, 2330, 2468, 2483, 2471, 2508, 2588, 2547, 2679]]\n",
      "[[0, 0, 0, 0, 0, 0, 0, 0, 0, 0, 0, 0, 0, 0, 0, 0], [0, 0, 0, 0, 0, 0, 0, 0, 0, 0, 0, 0, 0, 0, 0, 0], [0, 0, 0, 0, 0, 0, 0, 0, 0, 0, 0, 0, 0, 0, 0, 0], [0, 0, 0, 0, 0, 0, 0, 0, 0, 0, 0, 0, 0, 0, 0, 0], [0, 0, 0, 0, 0, 0, 0, 0, 0, 0, 0, 0, 0, 0, 0, 0], [0, 0, 0, 0, 0, 0, 0, 0, 0, 0, 0, 0, 0, 0, 0, 0], [0, 0, 0, 0, 0, 0, 0, 0, 0, 0, 0, 0, 0, 0, 0, 0], [0, 0, 0, 0, 0, 0, 0, 0, 0, 0, 0, 0, 0, 0, 0, 0], [0, 0, 0, 0, 0, 0, 0, 0, 0, 0, 0, 0, 0, 0, 0, 0], [0, 0, 0, 0, 0, 0, 0, 0, 0, 0, 0, 0, 0, 0, 0, 0], [0, 0, 0, 0, 0, 0, 0, 0, 0, 0, 0, 0, 0, 0, 0, 0], [0, 0, 0, 0, 0, 0, 0, 0, 0, 0, 0, 0, 0, 0, 0, 0], [0, 0, 0, 0, 0, 0, 0, 0, 0, 0, 0, 0, 0, 0, 0, 0], [0, 0, 0, 0, 0, 0, 0, 0, 0, 0, 0, 0, 0, 0, 0, 0], [0, 0, 0, 0, 0, 0, 0, 0, 0, 0, 0, 0, 0, 0, 0, 0], [2524, 2512, 2528, 2467, 2482, 2497, 2530, 2476, 2491, 2509, 2506, 2495, 2529, 2509, 2486, 2513]]\n",
      "[[0, 0, 0, 0, 0, 0, 0, 0, 0, 0, 0, 0, 0, 0, 0, 0], [0, 0, 0, 0, 0, 0, 0, 0, 0, 0, 0, 0, 0, 0, 0, 0], [0, 0, 0, 0, 0, 0, 0, 0, 0, 0, 0, 0, 0, 0, 0, 0], [0, 0, 0, 0, 0, 0, 0, 0, 0, 0, 0, 0, 0, 0, 0, 0], [0, 0, 0, 0, 0, 0, 0, 0, 0, 0, 0, 0, 0, 0, 0, 0], [0, 0, 0, 0, 0, 0, 0, 0, 0, 0, 0, 0, 0, 0, 0, 0], [0, 0, 0, 0, 0, 0, 0, 0, 0, 0, 0, 0, 0, 0, 0, 0], [0, 0, 0, 0, 0, 0, 0, 0, 0, 0, 0, 0, 0, 0, 0, 0], [0, 0, 0, 0, 0, 0, 0, 0, 0, 0, 0, 0, 0, 0, 0, 0], [0, 0, 0, 0, 0, 0, 0, 0, 0, 0, 0, 0, 0, 0, 0, 0], [0, 0, 0, 0, 0, 0, 0, 0, 0, 0, 0, 0, 0, 0, 0, 0], [0, 0, 0, 0, 0, 0, 0, 0, 0, 0, 0, 0, 0, 0, 0, 0], [0, 0, 0, 0, 0, 0, 0, 0, 0, 0, 0, 0, 0, 0, 0, 0], [0, 0, 0, 0, 0, 0, 0, 0, 0, 0, 0, 0, 0, 0, 0, 0], [0, 0, 0, 0, 0, 0, 0, 0, 0, 0, 0, 0, 0, 0, 0, 0], [2500, 2507, 2508, 2500, 2497, 2502, 2505, 2498, 2503, 2511, 2505, 2499, 2514, 2512, 2502, 2492]]\n",
      "[[0, 0, 0, 0, 0, 0, 0, 0, 0, 0, 0, 0, 0, 0, 0, 0], [0, 0, 0, 0, 0, 0, 0, 0, 0, 0, 0, 0, 0, 0, 0, 0], [0, 0, 0, 0, 0, 0, 0, 0, 0, 0, 0, 0, 0, 0, 0, 0], [0, 0, 0, 0, 0, 0, 0, 0, 0, 0, 0, 0, 0, 0, 0, 0], [0, 0, 0, 0, 0, 0, 0, 0, 0, 0, 0, 0, 0, 0, 0, 0], [0, 0, 0, 0, 0, 0, 0, 0, 0, 0, 0, 0, 0, 0, 0, 0], [0, 0, 0, 0, 0, 0, 0, 0, 0, 0, 0, 0, 0, 0, 0, 0], [0, 0, 0, 0, 0, 0, 0, 0, 0, 0, 0, 0, 0, 0, 0, 0], [0, 0, 0, 0, 0, 0, 0, 0, 0, 0, 0, 0, 0, 0, 0, 0], [0, 0, 0, 0, 0, 0, 0, 0, 0, 0, 0, 0, 0, 0, 0, 0], [0, 0, 0, 0, 0, 0, 0, 0, 0, 0, 0, 0, 0, 0, 0, 0], [0, 0, 0, 0, 0, 0, 0, 0, 0, 0, 0, 0, 0, 0, 0, 0], [0, 0, 0, 0, 0, 0, 0, 0, 0, 0, 0, 0, 0, 0, 0, 0], [0, 0, 0, 0, 0, 0, 0, 0, 0, 0, 0, 0, 0, 0, 0, 0], [0, 0, 0, 0, 0, 0, 0, 0, 0, 0, 0, 0, 0, 0, 0, 0], [2497, 2506, 2508, 2502, 2499, 2504, 2505, 2502, 2501, 2505, 2505, 2502, 2505, 2508, 2504, 2503]]\n",
      "[[0, 0, 0, 0, 0, 0, 0, 0, 0, 0, 0, 0, 0, 0, 0, 0], [0, 0, 0, 0, 0, 0, 0, 0, 0, 0, 0, 0, 0, 0, 0, 0], [0, 0, 0, 0, 0, 0, 0, 0, 0, 0, 0, 0, 0, 0, 0, 0], [0, 0, 0, 0, 0, 0, 0, 0, 0, 0, 0, 0, 0, 0, 0, 0], [0, 0, 0, 0, 0, 0, 0, 0, 0, 0, 0, 0, 0, 0, 0, 0], [0, 0, 0, 0, 0, 0, 0, 0, 0, 0, 0, 0, 0, 0, 0, 0], [0, 0, 0, 0, 0, 0, 0, 0, 0, 0, 0, 0, 0, 0, 0, 0], [0, 0, 0, 0, 0, 0, 0, 0, 0, 0, 0, 0, 0, 0, 0, 0], [0, 0, 0, 0, 0, 0, 0, 0, 0, 0, 0, 0, 0, 0, 0, 0], [0, 0, 0, 0, 0, 0, 0, 0, 0, 0, 0, 0, 0, 0, 0, 0], [0, 0, 0, 0, 0, 0, 0, 0, 0, 0, 0, 0, 0, 0, 0, 0], [0, 0, 0, 0, 0, 0, 0, 0, 0, 0, 0, 0, 0, 0, 0, 0], [0, 0, 0, 0, 0, 0, 0, 0, 0, 0, 0, 0, 0, 0, 0, 0], [0, 0, 0, 0, 0, 0, 0, 0, 0, 0, 0, 0, 0, 0, 0, 0], [0, 0, 0, 0, 0, 0, 0, 0, 0, 0, 0, 0, 0, 0, 0, 0], [2503, 2505, 2507, 2503, 2501, 2504, 2505, 2501, 2502, 2503, 2504, 2503, 2505, 2505, 2502, 2504]]\n",
      "[[0, 0, 0, 0, 0, 0, 0, 0, 0, 0, 0, 0, 0, 0, 0, 0], [0, 0, 0, 0, 0, 0, 0, 0, 0, 0, 0, 0, 0, 0, 0, 0], [0, 0, 0, 0, 0, 0, 0, 0, 0, 0, 0, 0, 0, 0, 0, 0], [0, 0, 0, 0, 0, 0, 0, 0, 0, 0, 0, 0, 0, 0, 0, 0], [0, 0, 0, 0, 0, 0, 0, 0, 0, 0, 0, 0, 0, 0, 0, 0], [0, 0, 0, 0, 0, 0, 0, 0, 0, 0, 0, 0, 0, 0, 0, 0], [0, 0, 0, 0, 0, 0, 0, 0, 0, 0, 0, 0, 0, 0, 0, 0], [0, 0, 0, 0, 0, 0, 0, 0, 0, 0, 0, 0, 0, 0, 0, 0], [0, 0, 0, 0, 0, 0, 0, 0, 0, 0, 0, 0, 0, 0, 0, 0], [0, 0, 0, 0, 0, 0, 0, 0, 0, 0, 0, 0, 0, 0, 0, 0], [0, 0, 0, 0, 0, 0, 0, 0, 0, 0, 0, 0, 0, 0, 0, 0], [0, 0, 0, 0, 0, 0, 0, 0, 0, 0, 0, 0, 0, 0, 0, 0], [0, 0, 0, 0, 0, 0, 0, 0, 0, 0, 0, 0, 0, 0, 0, 0], [0, 0, 0, 0, 0, 0, 0, 0, 0, 0, 0, 0, 0, 0, 0, 0], [0, 0, 0, 0, 0, 0, 0, 0, 0, 0, 0, 0, 0, 0, 0, 0], [2504, 2503, 2505, 2502, 2502, 2504, 2507, 2503, 2504, 2503, 2505, 2503, 2505, 2505, 2502, 2502]]\n",
      "[[0, 0, 0, 0, 0, 0, 0, 0, 0, 0, 0, 0, 0, 0, 0, 0], [0, 0, 0, 0, 0, 0, 0, 0, 0, 0, 0, 0, 0, 0, 0, 0], [0, 0, 0, 0, 0, 0, 0, 0, 0, 0, 0, 0, 0, 0, 0, 0], [0, 0, 0, 0, 0, 0, 0, 0, 0, 0, 0, 0, 0, 0, 0, 0], [0, 0, 0, 0, 0, 0, 0, 0, 0, 0, 0, 0, 0, 0, 0, 0], [0, 0, 0, 0, 0, 0, 0, 0, 0, 0, 0, 0, 0, 0, 0, 0], [0, 0, 0, 0, 0, 0, 0, 0, 0, 0, 0, 0, 0, 0, 0, 0], [0, 0, 0, 0, 0, 0, 0, 0, 0, 0, 0, 0, 0, 0, 0, 0], [0, 0, 0, 0, 0, 0, 0, 0, 0, 0, 0, 0, 0, 0, 0, 0], [0, 0, 0, 0, 0, 0, 0, 0, 0, 0, 0, 0, 0, 0, 0, 0], [0, 0, 0, 0, 0, 0, 0, 0, 0, 0, 0, 0, 0, 0, 0, 0], [0, 0, 0, 0, 0, 0, 0, 0, 0, 0, 0, 0, 0, 0, 0, 0], [0, 0, 0, 0, 0, 0, 0, 0, 0, 0, 0, 0, 0, 0, 0, 0], [0, 0, 0, 0, 0, 0, 0, 0, 0, 0, 0, 0, 0, 0, 0, 0], [0, 0, 0, 0, 0, 0, 0, 0, 0, 0, 0, 0, 0, 0, 0, 0], [2503, 2503, 2505, 2503, 2503, 2505, 2505, 2504, 2504, 2503, 2503, 2503, 2507, 2505, 2504, 2503]]\n",
      "[[0, 0, 0, 0, 0, 0, 0, 0, 0, 0, 0, 0, 0, 0, 0, 0], [0, 0, 0, 0, 0, 0, 0, 0, 0, 0, 0, 0, 0, 0, 0, 0], [0, 0, 0, 0, 0, 0, 0, 0, 0, 0, 0, 0, 0, 0, 0, 0], [0, 0, 0, 0, 0, 0, 0, 0, 0, 0, 0, 0, 0, 0, 0, 0], [0, 0, 0, 0, 0, 0, 0, 0, 0, 0, 0, 0, 0, 0, 0, 0], [0, 0, 0, 0, 0, 0, 0, 0, 0, 0, 0, 0, 0, 0, 0, 0], [0, 0, 0, 0, 0, 0, 0, 0, 0, 0, 0, 0, 0, 0, 0, 0], [0, 0, 0, 0, 0, 0, 0, 0, 0, 0, 0, 0, 0, 0, 0, 0], [0, 0, 0, 0, 0, 0, 0, 0, 0, 0, 0, 0, 0, 0, 0, 0], [0, 0, 0, 0, 0, 0, 0, 0, 0, 0, 0, 0, 0, 0, 0, 0], [0, 0, 0, 0, 0, 0, 0, 0, 0, 0, 0, 0, 0, 0, 0, 0], [0, 0, 0, 0, 0, 0, 0, 0, 0, 0, 0, 0, 0, 0, 0, 0], [0, 0, 0, 0, 0, 0, 0, 0, 0, 0, 0, 0, 0, 0, 0, 0], [0, 0, 0, 0, 0, 0, 0, 0, 0, 0, 0, 0, 0, 0, 0, 0], [0, 0, 0, 0, 0, 0, 0, 0, 0, 0, 0, 0, 0, 0, 0, 0], [2504, 2504, 2505, 2504, 2504, 2504, 2505, 2504, 2505, 2504, 2504, 2504, 2505, 2507, 2504, 2504]]\n",
      "[[0, 0, 0, 0, 0, 0, 0, 0, 0, 0, 0, 0, 0, 0, 0, 0], [0, 0, 0, 0, 0, 0, 0, 0, 0, 0, 0, 0, 0, 0, 0, 0], [0, 0, 0, 0, 0, 0, 0, 0, 0, 0, 0, 0, 0, 0, 0, 0], [0, 0, 0, 0, 0, 0, 0, 0, 0, 0, 0, 0, 0, 0, 0, 0], [0, 0, 0, 0, 0, 0, 0, 0, 0, 0, 0, 0, 0, 0, 0, 0], [0, 0, 0, 0, 0, 0, 0, 0, 0, 0, 0, 0, 0, 0, 0, 0], [0, 0, 0, 0, 0, 0, 0, 0, 0, 0, 0, 0, 0, 0, 0, 0], [0, 0, 0, 0, 0, 0, 0, 0, 0, 0, 0, 0, 0, 0, 0, 0], [0, 0, 0, 0, 0, 0, 0, 0, 0, 0, 0, 0, 0, 0, 0, 0], [0, 0, 0, 0, 0, 0, 0, 0, 0, 0, 0, 0, 0, 0, 0, 0], [0, 0, 0, 0, 0, 0, 0, 0, 0, 0, 0, 0, 0, 0, 0, 0], [0, 0, 0, 0, 0, 0, 0, 0, 0, 0, 0, 0, 0, 0, 0, 0], [0, 0, 0, 0, 0, 0, 0, 0, 0, 0, 0, 0, 0, 0, 0, 0], [0, 0, 0, 0, 0, 0, 0, 0, 0, 0, 0, 0, 0, 0, 0, 0], [0, 0, 0, 0, 0, 0, 0, 0, 0, 0, 0, 0, 0, 0, 0, 0], [2505, 2505, 2507, 2505, 2505, 2505, 2505, 2505, 2505, 2505, 2505, 2505, 2505, 2505, 2505, 2505]]\n",
      "[[0, 0, 0, 0, 0, 0, 0, 0, 0, 0, 0, 0, 0, 0, 0, 0], [0, 0, 0, 0, 0, 0, 0, 0, 0, 0, 0, 0, 0, 0, 0, 0], [0, 0, 0, 0, 0, 0, 0, 0, 0, 0, 0, 0, 0, 0, 0, 0], [0, 0, 0, 0, 0, 0, 0, 0, 0, 0, 0, 0, 0, 0, 0, 0], [0, 0, 0, 0, 0, 0, 0, 0, 0, 0, 0, 0, 0, 0, 0, 0], [0, 0, 0, 0, 0, 0, 0, 0, 0, 0, 0, 0, 0, 0, 0, 0], [0, 0, 0, 0, 0, 0, 0, 0, 0, 0, 0, 0, 0, 0, 0, 0], [0, 0, 0, 0, 0, 0, 0, 0, 0, 0, 0, 0, 0, 0, 0, 0], [0, 0, 0, 0, 0, 0, 0, 0, 0, 0, 0, 0, 0, 0, 0, 0], [0, 0, 0, 0, 0, 0, 0, 0, 0, 0, 0, 0, 0, 0, 0, 0], [0, 0, 0, 0, 0, 0, 0, 0, 0, 0, 0, 0, 0, 0, 0, 0], [0, 0, 0, 0, 0, 0, 0, 0, 0, 0, 0, 0, 0, 0, 0, 0], [0, 0, 0, 0, 0, 0, 0, 0, 0, 0, 0, 0, 0, 0, 0, 0], [0, 0, 0, 0, 0, 0, 0, 0, 0, 0, 0, 0, 0, 0, 0, 0], [0, 0, 0, 0, 0, 0, 0, 0, 0, 0, 0, 0, 0, 0, 0, 0], [2506, 2506, 2506, 2506, 2506, 2506, 2507, 2506, 2506, 2506, 2506, 2506, 2506, 2506, 2506, 2506]]\n",
      "13\n"
     ]
    }
   ],
   "source": [
    "answer = 0\n",
    "#input_list = [5, 2, 3, 14, 9, 2, 11, 8]\n",
    "input_list = [1, 1, 10000, 1 ,2 ,3 ,10000 ,9999, 10, 9 ,8 ,10000, 5, 4, 3, 1]\n",
    "\n",
    "N = 16\n",
    "K = 0\n",
    "result_matrix = make_matrix(input_list,N)\n",
    "\n",
    "while True:\n",
    "    result = get_result(result_matrix)\n",
    "\n",
    "    if result <= K:\n",
    "        print(answer)\n",
    "        break\n",
    "    print(result_matrix)\n",
    "\n",
    "    test_matrix_2 = add_one_to_min(result_matrix)\n",
    "    stack_matrix = stack_fish_tank(test_matrix_2,N)\n",
    "    control_matrix = control_fish_num(stack_matrix,N)\n",
    "    spread_matrix = spread_fish(control_matrix,N)\n",
    "    fly_matrix = fly_fish_bowls(spread_matrix,N)\n",
    "    control_matrix_2 = control_fish_num(fly_matrix,N)\n",
    "    result_matrix = spread_fish(control_matrix_2,N)\n",
    "\n",
    "    answer += 1"
   ]
  },
  {
   "cell_type": "code",
   "execution_count": 24,
   "metadata": {},
   "outputs": [
    {
     "data": {
      "text/plain": [
       "[[0, 0, 0, 0, 0, 0, 0, 0],\n",
       " [0, 0, 0, 0, 0, 0, 0, 0],\n",
       " [0, 0, 0, 0, 0, 0, 0, 0],\n",
       " [0, 0, 0, 0, 0, 0, 0, 0],\n",
       " [0, 0, 0, 0, 0, 0, 0, 0],\n",
       " [0, 0, 0, 0, 0, 0, 0, 0],\n",
       " [0, 0, 0, 0, 0, 0, 0, 0],\n",
       " [5, 2, 3, 14, 9, 2, 11, 8]]"
      ]
     },
     "execution_count": 24,
     "metadata": {},
     "output_type": "execute_result"
    }
   ],
   "source": [
    "result_matrix"
   ]
  },
  {
   "cell_type": "code",
   "execution_count": 46,
   "metadata": {},
   "outputs": [],
   "source": [
    "input_matrix = np.array([\n",
    "       [ 0,  0,  0,  0],\n",
    "       [ 0,  0,  0,  0],\n",
    "       [ 0,  0,  0,  0],\n",
    "       [2,  10000,  2,  10000]])"
   ]
  },
  {
   "cell_type": "code",
   "execution_count": 38,
   "metadata": {},
   "outputs": [
    {
     "name": "stdout",
     "output_type": "stream",
     "text": [
      "1 1 1\n",
      "[[    0     0     0     0]\n",
      " [    0     0     0     0]\n",
      " [    0     1     0     0]\n",
      " [    0 10000     1 10000]]\n",
      "2 1 2\n",
      "2 1 2\n",
      "[[    0     0     0     0]\n",
      " [    0     0     0     0]\n",
      " [    0     0 10000     1]\n",
      " [    0     0     1 10000]]\n",
      "3 2 2\n",
      "종료 3 2 2\n"
     ]
    }
   ],
   "source": [
    "result_matrix = np.copy(input_matrix)\n",
    "pivot,w,h = 1,1,1\n",
    "idx = 0\n",
    "N=4\n",
    "while True:\n",
    "        if (pivot-1+w+h>N): #종료 조건\n",
    "            print(\"종료\",pivot,w,h)\n",
    "            break\n",
    "        for c in range(pivot-1, pivot-1 + w):\n",
    "            for r in range(-1, -h - 1, -1):\n",
    "                nextR = - w + c - pivot\n",
    "                nextC = pivot-1 +w -(r+1)\n",
    "                result_matrix[nextR][nextC] = result_matrix[r][c]\n",
    "                result_matrix[r][c] = 0\n",
    "        print(pivot,w,h)\n",
    "        print(result_matrix)\n",
    "        pivot += (idx // 2 + 1)\n",
    "        if idx % 2 == 1:\n",
    "            w += 1\n",
    "        else:\n",
    "            h += 1\n",
    "        print(pivot,w,h)\n",
    "        idx += 1"
   ]
  },
  {
   "cell_type": "code",
   "execution_count": 5,
   "metadata": {},
   "outputs": [],
   "source": [
    "from collections import deque\n",
    "board= list()\n",
    "board_data=[1,10000,1,10000]\n",
    "for row in board_data:\n",
    "    board.append(deque([row]))"
   ]
  },
  {
   "cell_type": "code",
   "execution_count": 6,
   "metadata": {},
   "outputs": [
    {
     "data": {
      "text/plain": [
       "[deque([1]), deque([10000]), deque([1]), deque([10000])]"
      ]
     },
     "execution_count": 6,
     "metadata": {},
     "output_type": "execute_result"
    }
   ],
   "source": [
    "board"
   ]
  },
  {
   "cell_type": "code",
   "execution_count": 9,
   "metadata": {},
   "outputs": [],
   "source": [
    "import sys\n",
    "from collections import deque\n",
    "\n",
    "board = list()\n",
    "board.append(deque(list(map(int, sys.stdin.readline().split()))))"
   ]
  },
  {
   "cell_type": "code",
   "execution_count": 37,
   "metadata": {},
   "outputs": [
    {
     "name": "stdout",
     "output_type": "stream",
     "text": [
      "처음 0 [deque([1, 10000, 1, 10000])]\n",
      "1개씩  0 [deque([2, 10000, 2, 10000])]\n",
      "첫 공중부양 후 조정  0 [deque([4000, 6002, 6002, 4000])]\n",
      "두번째 공중부양 후 조정  0 [deque([4000, 4400, 5602, 6002])]\n",
      "처음 1 [deque([4000, 4400, 5602, 6002])]\n",
      "1개씩  1 [deque([4001, 4400, 5602, 6002])]\n",
      "첫 공중부양 후 조정  1 [deque([5442, 4561, 5522, 4480])]\n",
      "두번째 공중부양 후 조정  1 [deque([4672, 5074, 4929, 5330])]\n",
      "처음 2 [deque([4672, 5074, 4929, 5330])]\n",
      "1개씩  2 [deque([4673, 5074, 4929, 5330])]\n",
      "첫 공중부양 후 조정  2 [deque([5038, 4965, 5119, 4884])]\n",
      "두번째 공중부양 후 조정  2 [deque([4914, 4994, 5009, 5089])]\n",
      "처음 3 [deque([4914, 4994, 5009, 5089])]\n",
      "1개씩  3 [deque([4915, 4994, 5009, 5089])]\n",
      "첫 공중부양 후 조정  3 [deque([5022, 4982, 5039, 4964])]\n",
      "두번째 공중부양 후 조정  3 [deque([4975, 5003, 5001, 5028])]\n",
      "처음 4 [deque([4975, 5003, 5001, 5028])]\n",
      "1개씩  4 [deque([4976, 5003, 5001, 5028])]\n",
      "첫 공중부양 후 조정  4 [deque([5006, 4998, 5013, 4991])]\n",
      "두번째 공중부양 후 조정  4 [deque([4994, 5002, 5002, 5010])]\n",
      "처음 5 [deque([4994, 5002, 5002, 5010])]\n",
      "1개씩  5 [deque([4995, 5002, 5002, 5010])]\n",
      "첫 공중부양 후 조정  5 [deque([5003, 5001, 5006, 4999])]\n",
      "두번째 공중부양 후 조정  5 [deque([4999, 5003, 5002, 5005])]\n",
      "처음 6 [deque([4999, 5003, 5002, 5005])]\n",
      "1개씩  6 [deque([5000, 5003, 5002, 5005])]\n",
      "첫 공중부양 후 조정  6 [deque([5002, 5003, 5004, 5001])]\n",
      "두번째 공중부양 후 조정  6 [deque([5001, 5002, 5003, 5004])]\n",
      "처음 7 [deque([5001, 5002, 5003, 5004])]\n",
      "1개씩  7 [deque([5002, 5002, 5003, 5004])]\n",
      "첫 공중부양 후 조정  7 [deque([5003, 5002, 5004, 5002])]\n",
      "두번째 공중부양 후 조정  7 [deque([5002, 5003, 5002, 5004])]\n",
      "처음 8 [deque([5002, 5003, 5002, 5004])]\n",
      "1개씩  8 [deque([5003, 5003, 5003, 5004])]\n",
      "첫 공중부양 후 조정  8 [deque([5003, 5003, 5004, 5003])]\n",
      "두번째 공중부양 후 조정  8 [deque([5003, 5003, 5003, 5004])]\n",
      "처음 9 [deque([5003, 5003, 5003, 5004])]\n",
      "1개씩  9 [deque([5004, 5004, 5004, 5004])]\n",
      "첫 공중부양 후 조정  9 [deque([5004, 5004, 5004, 5004])]\n",
      "두번째 공중부양 후 조정  9 [deque([5004, 5004, 5004, 5004])]\n",
      "10\n"
     ]
    }
   ],
   "source": [
    "from collections import deque\n",
    "import sys\n",
    "N, K = 4, 0 \n",
    "direction = [(-1, 0), (1, 0), (0, -1), (0, 1)]\n",
    "board= list()\n",
    "board_data=[1,10000,1,10000]\n",
    "board.append(deque(board_data))\n",
    "\n",
    "\n",
    "# 물고기가 가장 적은 어항에 물고기 한 마리 넣기\n",
    "def push_fish_to_min_bowl(graph):\n",
    "    min_bowl_fish_num = min(graph[0])\n",
    "    for i in range(len(graph[0])):\n",
    "        if graph[0][i] == min_bowl_fish_num:\n",
    "            graph[0][i] += 1\n",
    "\n",
    "\n",
    "# 가장 왼쪽의 어항을 위에 쌓기\n",
    "def popleft_and_stack(graph):\n",
    "    pop = graph[0].popleft()\n",
    "    graph.append(deque([pop]))\n",
    "\n",
    "\n",
    "# 공중에 뜬 어항들을 시계방향 90도 회전하기\n",
    "def rotate_90_clockwise(bowls):\n",
    "    new_bowls = [[0] * len(bowls) for _ in range(len(bowls[0]))]\n",
    "    for i in range(len(bowls[0])):\n",
    "        for j in range(len(bowls)):\n",
    "            new_bowls[i][j] = bowls[j][len(bowls[0])-1-i]\n",
    "\n",
    "    return new_bowls\n",
    "\n",
    "\n",
    "# 2개 이상 쌓인 어항들을 분리해서 공중부양 시키기\n",
    "def fly_blocks(graph):\n",
    "    while True:\n",
    "        if len(graph) > len(graph[0]) - len(graph[-1]):\n",
    "            break\n",
    "\n",
    "        will_fly_blocks = []\n",
    "        will_fly_blocks_row = len(graph)\n",
    "        will_fly_blocks_col = len(graph[-1])\n",
    "\n",
    "        for i in range(will_fly_blocks_row):\n",
    "            new_deque = deque()\n",
    "            for _ in range(will_fly_blocks_col):\n",
    "                new_deque.append(graph[i].popleft())\n",
    "            will_fly_blocks.append(new_deque)\n",
    "\n",
    "        graph = [graph[0]]\n",
    "        rotated_blocks = rotate_90_clockwise(will_fly_blocks)\n",
    "        for row in rotated_blocks:\n",
    "            graph.append(deque(row))\n",
    "\n",
    "    return graph\n",
    "\n",
    "\n",
    "# 공중 부양 작업이 끝난 뒤, 어항의 물고기 수 조절. BFS 수행. 역시 범인은 이 안에 있다. 음수가 나올리가 없다.\n",
    "# 잠깐, 생각해보니 굳이 BFS 를 사용해야 돼? 걍 완탐하는게 목적인데.\n",
    "def fix_fish_num(graph):\n",
    "    dp = [[0] * len(graph[x]) for x in range(len(graph))]\n",
    "    for x in range(len(graph)):\n",
    "        for y in range(len(graph[x])):\n",
    "            for d in direction:\n",
    "                nx = x + d[0]\n",
    "                ny = y + d[1]\n",
    "\n",
    "                if 0 <= nx < len(graph) and 0 <= ny < len(graph[nx]):\n",
    "                    # 현재 칸이 인접 칸보다 크다면\n",
    "                    if graph[x][y] > graph[nx][ny]:\n",
    "                        d = (graph[x][y] - graph[nx][ny]) // 5\n",
    "                        if d >= 1:\n",
    "                            dp[x][y] -= d\n",
    "                    # 현재 칸이 인접 칸보다 작다면\n",
    "                    else:\n",
    "                        d = (graph[nx][ny] - graph[x][y]) // 5\n",
    "                        if d >= 1:\n",
    "                            dp[x][y] += d\n",
    "\n",
    "    for i in range(len(graph)):\n",
    "        for j in range(len(graph[i])):\n",
    "            graph[i][j] += dp[i][j]\n",
    "\n",
    "\n",
    "# 다시 어항을 일렬로 놓는다\n",
    "def put_bowl_in_a_row(graph):\n",
    "    new_graph = deque()\n",
    "\n",
    "    for i in range(len(graph[-1])):\n",
    "        for j in range(len(graph)):\n",
    "            new_graph.append(graph[j][i])\n",
    "\n",
    "    for i in range(len(graph[-1]), len(graph[0])):\n",
    "        new_graph.append(graph[0][i])\n",
    "\n",
    "    result_list = list()\n",
    "    result_list.append(new_graph)\n",
    "\n",
    "    return result_list\n",
    "\n",
    "\n",
    "# 180 도 회전\n",
    "def rotate_180_clockwise(graph):\n",
    "    new_graph = []\n",
    "\n",
    "    for i in reversed(range(len(graph))):\n",
    "        graph[i].reverse()\n",
    "        new_graph.append(graph[i])\n",
    "\n",
    "    return new_graph\n",
    "\n",
    "\n",
    "# 다시 공중부양 작업을 한다. 이번에는 절반을 자르는데 2번 수행한다.\n",
    "def fly_blocks2(graph):\n",
    "    left1 = list()\n",
    "    left2 = list()\n",
    "    new_deque1 = deque()\n",
    "    for i in range(N//2):\n",
    "        new_deque1.append(graph[0].popleft())\n",
    "    left1.append(new_deque1)\n",
    "    rotated_left1 = rotate_180_clockwise(left1)\n",
    "    graph += rotated_left1\n",
    "\n",
    "    for i in range(2):\n",
    "        temp_deque = deque()\n",
    "        for j in range(N//4):\n",
    "            temp_deque.append(graph[i].popleft())\n",
    "        left2.append(temp_deque)\n",
    "    rotated_left2 = rotate_180_clockwise(left2)\n",
    "    graph += rotated_left2\n",
    "\n",
    "\n",
    "# 물고기가 가장 많은 어항과 가장 적은 어항의 차이를 구하는 함수\n",
    "def get_result(graph):\n",
    "    dq = graph[0]\n",
    "    result1 = max(dq) - min(dq)\n",
    "    \n",
    "    return result1\n",
    "\n",
    "\n",
    "answer = 0\n",
    "while True:\n",
    "    result = get_result(board)\n",
    "    if result <= K:\n",
    "        print(answer)\n",
    "        break\n",
    "    print(\"처음\",answer,board)\n",
    "    push_fish_to_min_bowl(board)\n",
    "    print(\"1개씩 \",answer,board)\n",
    "    popleft_and_stack(board)\n",
    "    board = fly_blocks(board)\n",
    "    fix_fish_num(board)\n",
    "    board = put_bowl_in_a_row(board)\n",
    "    print(\"첫 공중부양 후 조정 \",answer,board)\n",
    "    fly_blocks2(board)\n",
    "    fix_fish_num(board)\n",
    "    board = put_bowl_in_a_row(board)\n",
    "    print(\"두번째 공중부양 후 조정 \",answer,board)\n",
    "\n",
    "    answer += 1"
   ]
  },
  {
   "cell_type": "code",
   "execution_count": null,
   "metadata": {},
   "outputs": [],
   "source": []
  }
 ],
 "metadata": {
  "kernelspec": {
   "display_name": "font_project",
   "language": "python",
   "name": "python3"
  },
  "language_info": {
   "codemirror_mode": {
    "name": "ipython",
    "version": 3
   },
   "file_extension": ".py",
   "mimetype": "text/x-python",
   "name": "python",
   "nbconvert_exporter": "python",
   "pygments_lexer": "ipython3",
   "version": "3.8.16"
  },
  "orig_nbformat": 4
 },
 "nbformat": 4,
 "nbformat_minor": 2
}
