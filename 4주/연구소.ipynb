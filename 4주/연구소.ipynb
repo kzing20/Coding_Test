{
 "cells": [
  {
   "cell_type": "code",
   "execution_count": 7,
   "metadata": {},
   "outputs": [],
   "source": [
    "from copy import deepcopy\n",
    "from collections import deque\n",
    "mat = [[2, 0, 0, 0, 1, 1, 0],\n",
    "       [0 ,0 ,1, 0, 1, 2, 0],\n",
    "       [0, 1, 1, 0, 1, 0, 0],\n",
    "       [0, 1, 0, 0, 0, 0 ,0],\n",
    "       [0, 0, 0, 0, 0, 1, 1],\n",
    "       [0, 1, 0, 0, 0, 0, 0],\n",
    "       [0 ,1, 0, 0, 0, 0, 0],] #나중에 입력으로 바꿔야함"
   ]
  },
  {
   "cell_type": "code",
   "execution_count": 8,
   "metadata": {},
   "outputs": [],
   "source": [
    "N,M = 7,7 #나중에 입력으로 바꿔야 함"
   ]
  },
  {
   "cell_type": "code",
   "execution_count": 4,
   "metadata": {},
   "outputs": [],
   "source": [
    "### 0 개수 세는 함수\n",
    "def count_zero(matrix):\n",
    "    count = 0 \n",
    "    for row in range(N):\n",
    "        for col in range(M):\n",
    "            if(matrix[row][col] ==0):\n",
    "                count += 1\n",
    "    return count"
   ]
  },
  {
   "cell_type": "code",
   "execution_count": 5,
   "metadata": {},
   "outputs": [],
   "source": [
    "### 바이러스 퍼지는 함수\n",
    "def spread_virus(matrix):\n",
    "    delta = [(0, -1), (1, 0), (0, 1), (-1, 0)]# 상 우 하 좌\n",
    "    spread_mat = deepcopy(matrix)\n",
    "    queue = deque()\n",
    "    \n",
    "    for row in range(N):\n",
    "        for col in range(M):\n",
    "            if(spread_mat[row][col] ==2):\n",
    "                queue.append((row,col))\n",
    "    while queue:\n",
    "        r,c = queue.popleft()\n",
    "        for i in range(4):\n",
    "            dr = r + delta[i][0]\n",
    "            dc = c + delta[i][1]\n",
    "            if (0<=dr<N) and (0<=dc<M):\n",
    "                if spread_mat[dr][dc] == 0:\n",
    "                    spread_mat[dr][dc] =2\n",
    "                    queue.append((dr,dc))\n",
    "\n",
    "    global result\n",
    "    count = count_zero(spread_mat)\n",
    "    result = max(result, count)\n"
   ]
  },
  {
   "cell_type": "code",
   "execution_count": 12,
   "metadata": {},
   "outputs": [],
   "source": [
    "### 벽3개 세우는 함수\n",
    "def make_wall(count):\n",
    "    if count == 3:\n",
    "        spread_virus(mat) \n",
    "        return \n",
    "    for i in range(N):\n",
    "        for k in range(M):\n",
    "            if mat[i][k] == 0:\n",
    "                mat[i][k] = 1\n",
    "                make_wall(count+1)\n",
    "                mat[i][k] = 0"
   ]
  },
  {
   "cell_type": "code",
   "execution_count": 13,
   "metadata": {},
   "outputs": [],
   "source": [
    "result =0\n",
    "make_wall(0)"
   ]
  },
  {
   "cell_type": "code",
   "execution_count": 14,
   "metadata": {},
   "outputs": [
    {
     "data": {
      "text/plain": [
       "27"
      ]
     },
     "execution_count": 14,
     "metadata": {},
     "output_type": "execute_result"
    }
   ],
   "source": [
    "result"
   ]
  }
 ],
 "metadata": {
  "kernelspec": {
   "display_name": "font_project",
   "language": "python",
   "name": "python3"
  },
  "language_info": {
   "codemirror_mode": {
    "name": "ipython",
    "version": 3
   },
   "file_extension": ".py",
   "mimetype": "text/x-python",
   "name": "python",
   "nbconvert_exporter": "python",
   "pygments_lexer": "ipython3",
   "version": "3.8.16"
  }
 },
 "nbformat": 4,
 "nbformat_minor": 2
}
