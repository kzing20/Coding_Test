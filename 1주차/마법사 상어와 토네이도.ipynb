{
 "cells": [
  {
   "cell_type": "code",
   "execution_count": 2,
   "metadata": {},
   "outputs": [
    {
     "ename": "ValueError",
     "evalue": "invalid literal for int() with base 10: '5 0 0 0 0 0 0 0 0 0 0 0 10 0 0 0 0 0 0 0 0 0 0 0 0 0'",
     "output_type": "error",
     "traceback": [
      "\u001b[1;31m---------------------------------------------------------------------------\u001b[0m",
      "\u001b[1;31mValueError\u001b[0m                                Traceback (most recent call last)",
      "\u001b[1;32md:\\코딩테스트\\마법사 상어와 토네이도.ipynb Cell 1\u001b[0m line \u001b[0;36m6\n\u001b[0;32m     <a href='vscode-notebook-cell:/d%3A/%EC%BD%94%EB%94%A9%ED%85%8C%EC%8A%A4%ED%8A%B8/%EB%A7%88%EB%B2%95%EC%82%AC%20%EC%83%81%EC%96%B4%EC%99%80%20%ED%86%A0%EB%84%A4%EC%9D%B4%EB%8F%84.ipynb#W0sZmlsZQ%3D%3D?line=62'>63</a>\u001b[0m     \u001b[39mreturn\u001b[39;00m\n\u001b[0;32m     <a href='vscode-notebook-cell:/d%3A/%EC%BD%94%EB%94%A9%ED%85%8C%EC%8A%A4%ED%8A%B8/%EB%A7%88%EB%B2%95%EC%82%AC%20%EC%83%81%EC%96%B4%EC%99%80%20%ED%86%A0%EB%84%A4%EC%9D%B4%EB%8F%84.ipynb#W0sZmlsZQ%3D%3D?line=65'>66</a>\u001b[0m \u001b[39m# 1. input 받기\u001b[39;00m\n\u001b[1;32m---> <a href='vscode-notebook-cell:/d%3A/%EC%BD%94%EB%94%A9%ED%85%8C%EC%8A%A4%ED%8A%B8/%EB%A7%88%EB%B2%95%EC%82%AC%20%EC%83%81%EC%96%B4%EC%99%80%20%ED%86%A0%EB%84%A4%EC%9D%B4%EB%8F%84.ipynb#W0sZmlsZQ%3D%3D?line=66'>67</a>\u001b[0m N \u001b[39m=\u001b[39m \u001b[39mint\u001b[39;49m(\u001b[39minput\u001b[39;49m())\n\u001b[0;32m     <a href='vscode-notebook-cell:/d%3A/%EC%BD%94%EB%94%A9%ED%85%8C%EC%8A%A4%ED%8A%B8/%EB%A7%88%EB%B2%95%EC%82%AC%20%EC%83%81%EC%96%B4%EC%99%80%20%ED%86%A0%EB%84%A4%EC%9D%B4%EB%8F%84.ipynb#W0sZmlsZQ%3D%3D?line=67'>68</a>\u001b[0m sr \u001b[39m=\u001b[39m sc \u001b[39m=\u001b[39m N\u001b[39m/\u001b[39m\u001b[39m/\u001b[39m\u001b[39m2\u001b[39m              \u001b[39m# 허리케인 시작지점\u001b[39;00m\n\u001b[0;32m     <a href='vscode-notebook-cell:/d%3A/%EC%BD%94%EB%94%A9%ED%85%8C%EC%8A%A4%ED%8A%B8/%EB%A7%88%EB%B2%95%EC%82%AC%20%EC%83%81%EC%96%B4%EC%99%80%20%ED%86%A0%EB%84%A4%EC%9D%B4%EB%8F%84.ipynb#W0sZmlsZQ%3D%3D?line=68'>69</a>\u001b[0m data \u001b[39m=\u001b[39m [\u001b[39mlist\u001b[39m(\u001b[39mmap\u001b[39m(\u001b[39mint\u001b[39m, \u001b[39minput\u001b[39m()\u001b[39m.\u001b[39msplit())) \u001b[39mfor\u001b[39;00m _ \u001b[39min\u001b[39;00m \u001b[39mrange\u001b[39m(N)]\n",
      "\u001b[1;31mValueError\u001b[0m: invalid literal for int() with base 10: '5 0 0 0 0 0 0 0 0 0 0 0 10 0 0 0 0 0 0 0 0 0 0 0 0 0'"
     ]
    }
   ],
   "source": [
    "# 허리케인 이동방향\n",
    "delta = [(0, -1), (1, 0), (0, 1), (-1, 0)]\n",
    "\n",
    "# 2. 허리케인 방향에 맞춰 비율 배열 바꾸기 -> arr를 반시계방향으로 90도 회전하는 함수\n",
    "def rotate_90(proportion):\n",
    "    new_proportion = list(reversed(list(zip(*proportion))))\n",
    "    return new_proportion\n",
    "p = [[0, 0, 0.02, 0, 0], [0, 0.1, 0.07, 0.01, 0], [0.05, 0, 0, 0, 0], [0, 0.1, 0.07, 0.01, 0], [0, 0, 0.02, 0, 0]]\n",
    "p1 = rotate_90(p)\n",
    "p2 = rotate_90(p1)\n",
    "p3 = rotate_90(p2)\n",
    "proportions = [p, p1, p2, p3]\n",
    "alphas = [(2, 1), (3, 2), (2, 3), (1, 2)]           # 허리케인 이동 방향에 따른 알파 위치\n",
    "\n",
    "# 3. 허리케인 이동 + 모래 이동\n",
    "def solution():\n",
    "    # 3-1. 초기 조건 맞추기\n",
    "    outer_sand = 0                                  # 배열 밖으로 나간 sand\n",
    "    tr = sr                                         # 토네이도 위치 인덱스 -> 시작 지점 부터 시작\n",
    "    tc = sc\n",
    "    curl = 0                                        # 현재 토네이도 방향\n",
    "    turn = 2                                        # 토네이도 방향 바꾸는 지표 -> 좌-하 : turn = 2 /우-상: turn = 4, 2씩 늘어난다.\n",
    "    now = 0                                         # 토네이도 직선 길이\n",
    "    proportion = proportions[0]                     # 토네이도 방향에 따른 비율 배열\n",
    "\n",
    "    # 3-2 토네이도가 종료될때까지 토네이도 이동 -> 모래 이동 -> 토네이도 방향 바꾸기\n",
    "    while not (tr == 0 and tc == 0):                # 토네이도가 종료될 때까지 반복한다.\n",
    "\n",
    "        # 3-2-1. 토네이도 이동\n",
    "        tr += delta[curl][0]                        # 현재 토네이도 위치\n",
    "        tc += delta[curl][1]\n",
    "        now += 1                                    # 토네이도 길이 갱신\n",
    "        sand = data[tr][tc]\n",
    "        data[tr][tc] = 0                            # 토네이도 위치에 있는 모래는 모두 proportion에 따라 이동한다.\n",
    "        left = sand                                 # proportion으로 이동하고 남은 모래\n",
    "\n",
    "        # 3-2-2. proportion의 y위치와 data의 토네이도 위치를 일치 시켜 모래 정보 갱신하기\n",
    "        for r in range(5):\n",
    "            for c in range(5):\n",
    "                now_sand = int(sand * proportion[r][c])\n",
    "                left -= now_sand\n",
    "                if 0 <= tr + r - 2 < N and 0 <= tc + c - 2 < N:                                 # data 배열 안에 가능하다면 data 갱신\n",
    "                    data[tr + r - 2][tc + c - 2] += now_sand\n",
    "                else:                                                                           # 불가능 하다면 밖으로 나간 모래\n",
    "                    outer_sand += now_sand\n",
    "\n",
    "        # alpha 위치에 남은 모래 두기\n",
    "        if 0 <= tr + alphas[curl][0]- 2 < N and 0 <= tc + alphas[curl][1] - 2 < N:\n",
    "            data[tr + alphas[curl][0] - 2][tc + alphas[curl][1] - 2] += left\n",
    "        else:\n",
    "            outer_sand += left\n",
    "\n",
    "        # 3-2-3. 토네이도 방향 바꾸기\n",
    "        if now == turn // 2 or now == turn:\n",
    "            curl = (curl + 1) % 4\n",
    "            proportion = proportions[curl]\n",
    "            if now == turn:\n",
    "                now = 0\n",
    "                turn += 2\n",
    "\n",
    "    # 3-3. 토네이도 종료 후 바깥의 모래\n",
    "    print(outer_sand)\n",
    "    return\n",
    "\n",
    "\n",
    "# 1. input 받기\n",
    "N = int(input())\n",
    "sr = sc = N//2              # 허리케인 시작지점\n",
    "data = [list(map(int, input().split())) for _ in range(N)]\n",
    "solution()"
   ]
  }
 ],
 "metadata": {
  "kernelspec": {
   "display_name": "pytorch_env",
   "language": "python",
   "name": "python3"
  },
  "language_info": {
   "codemirror_mode": {
    "name": "ipython",
    "version": 3
   },
   "file_extension": ".py",
   "mimetype": "text/x-python",
   "name": "python",
   "nbconvert_exporter": "python",
   "pygments_lexer": "ipython3",
   "version": "3.8.5"
  },
  "orig_nbformat": 4
 },
 "nbformat": 4,
 "nbformat_minor": 2
}
